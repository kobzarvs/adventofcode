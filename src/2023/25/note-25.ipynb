{
 "cells": [
  {
   "cell_type": "code",
   "outputs": [
    {
     "name": "stdout",
     "output_type": "stream",
     "text": [
      "Три ребра для разделения: [('jxx', 'qdp'), ('qqq', 'mlp'), ('zbr', 'vsx')]\n",
      "Количество рёбер в первой группе: 1596\n",
      "Количество рёбер во второй группе: 1698\n",
      "Количество нод в первой группе: 712\n",
      "Количество нод во второй группе: 763\n",
      "Part I: 543256\n"
     ]
    },
    {
     "name": "stderr",
     "output_type": "stream",
     "text": [
      "C:\\Users\\kobza\\AppData\\Local\\Temp\\ipykernel_10668\\3273264703.py:37: DeprecationWarning: `asfptype` is an internal function, and is deprecated as part of the public API. It will be removed in v1.13.0.\n",
      "  L = nx.laplacian_matrix(G).asfptype()\n"
     ]
    }
   ],
   "source": [
    "import networkx as nx\n",
    "import numpy as np\n",
    "from scipy.sparse.linalg import eigsh\n",
    "\n",
    "# Создание графа\n",
    "# edges = [\n",
    "#     ('jqt', 'rhn'), ('jqt', 'xhk'), ('jqt', 'nvd'),\n",
    "#     ('rhn', 'xhk'), ('rhn', 'bvb'), ('rhn', 'hfx'),\n",
    "#     ('bvb', 'xhk'), ('bvb', 'hfx'),\n",
    "#     ('ntq', 'jqt'), ('ntq', 'hfx'), ('ntq', 'bvb'), ('ntq', 'xhk'),\n",
    "#     ('xhk', 'hfx'),\n",
    "#     ('rzs', 'qnr'), ('rzs', 'cmg'), ('rzs', 'lsr'), ('rzs', 'rsh'),\n",
    "#     ('rsh', 'frs'), ('rsh', 'pzl'), ('rsh', 'lsr'),\n",
    "#     ('frs', 'qnr'), ('frs', 'lhk'), ('frs', 'lsr'),\n",
    "#     ('cmg', 'qnr'), ('cmg', 'nvd'), ('cmg', 'lhk'), ('cmg', 'bvb'),\n",
    "#     ('pzl', 'lsr'), ('pzl', 'hfx'), ('pzl', 'nvd'),\n",
    "#     ('qnr', 'nvd'),\n",
    "#     ('lsr', 'lhk'),\n",
    "#     ('nvd', 'lhk'),\n",
    "# ]\n",
    "\n",
    "with open('input.txt') as f:\n",
    "    file = f.readlines()\n",
    "    \n",
    "\n",
    "edges = []\n",
    "for y, line in enumerate(file):\n",
    "    [component, elements] = [it.strip() for it in line.rstrip().split(':')]\n",
    "    for element in [elements.strip() for elements in elements.split(' ')]:\n",
    "        edges.append((component, element))            \n",
    "\n",
    "# print(edges)\n",
    "\n",
    "G = nx.Graph(edges)\n",
    "\n",
    "# Получение лапласиана графа\n",
    "L = nx.laplacian_matrix(G).asfptype()\n",
    "\n",
    "# Вычисление Fiedler вектора\n",
    "eigenvalues, eigenvectors = eigsh(L, k=2, which='SM')\n",
    "fiedler_vector = eigenvectors[:, 1]\n",
    "\n",
    "# Находим три ребра, которые разделят граф\n",
    "\n",
    "partitions = np.sign(fiedler_vector)\n",
    "cut_edges = []\n",
    "\n",
    "# Создание отображения между строковыми метками вершин и числовыми индексами\n",
    "node_to_index = {node: idx for idx, node in enumerate(G.nodes)}\n",
    "\n",
    "# Находим ребра с наименьшими весами, соединяющие вершины из разных частей графа\n",
    "for u, v, data in sorted(G.edges(data=True), key=lambda x: x[2].get('weight', 1)):\n",
    "    u_index, v_index = node_to_index[u], node_to_index[v]\n",
    "    if partitions[u_index] != partitions[v_index]:\n",
    "        cut_edges.append((u, v))\n",
    "\n",
    "# print(\"Fiedler Вектор:\", fiedler_vector)\n",
    "print(\"Три ребра для разделения:\", cut_edges)\n",
    "\n",
    "# Создание двух подграфов\n",
    "subgraph_1 = G.subgraph([node for node in G.nodes if partitions[node_to_index[node]] == 1])\n",
    "subgraph_2 = G.subgraph([node for node in G.nodes if partitions[node_to_index[node]] == -1])\n",
    "\n",
    "# Подсчёт количества рёбер в каждой группе\n",
    "edges_count_group_1 = subgraph_1.number_of_edges()\n",
    "edges_count_group_2 = subgraph_2.number_of_edges()\n",
    "\n",
    "print(\"Количество рёбер в первой группе:\", edges_count_group_1)\n",
    "print(\"Количество рёбер во второй группе:\", edges_count_group_2)\n",
    "print(\"Количество нод в первой группе:\", subgraph_1.number_of_nodes())\n",
    "print(\"Количество нод во второй группе:\", subgraph_2.number_of_nodes())\n",
    "print(\"Part I:\", subgraph_1.number_of_nodes() * subgraph_2.number_of_nodes())"
   ],
   "metadata": {
    "collapsed": false,
    "ExecuteTime": {
     "end_time": "2024-01-05T00:07:37.525377300Z",
     "start_time": "2024-01-05T00:07:37.477013600Z"
    }
   },
   "id": "b050ab37cb92573c",
   "execution_count": 2
  },
  {
   "cell_type": "code",
   "outputs": [],
   "source": [],
   "metadata": {
    "collapsed": false
   },
   "id": "cb3edc598e573fdb"
  }
 ],
 "metadata": {
  "kernelspec": {
   "display_name": "Python 3",
   "language": "python",
   "name": "python3"
  },
  "language_info": {
   "codemirror_mode": {
    "name": "ipython",
    "version": 2
   },
   "file_extension": ".py",
   "mimetype": "text/x-python",
   "name": "python",
   "nbconvert_exporter": "python",
   "pygments_lexer": "ipython2",
   "version": "2.7.6"
  }
 },
 "nbformat": 4,
 "nbformat_minor": 5
}
