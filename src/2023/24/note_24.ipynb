{
 "cells": [
  {
   "cell_type": "code",
   "execution_count": 4,
   "id": "initial_id",
   "metadata": {
    "collapsed": true,
    "ExecuteTime": {
     "end_time": "2023-12-24T10:27:10.073965800Z",
     "start_time": "2023-12-24T10:27:10.065427700Z"
    }
   },
   "outputs": [
    {
     "name": "stdout",
     "output_type": "stream",
     "text": [
      "Точка пересечения: [19. 13.  0.]\n"
     ]
    }
   ],
   "source": [
    "import numpy as np\n",
    "\n",
    "\n",
    "def find_intersection(start_a, dir_a, start_b, dir_b):\n",
    "    # Параметры уравнений\n",
    "    cross_ab = np.cross(dir_a, dir_b)\n",
    "    cross_ba = np.cross(dir_b, dir_a)\n",
    "\n",
    "    t = np.dot(start_b - start_a, cross_ba) / np.dot(cross_ab, cross_ba)\n",
    "    s = np.dot(start_a - start_b, cross_ab) / np.dot(cross_ba, cross_ab)\n",
    "\n",
    "    # Точка пересечения\n",
    "    point_a = start_a + t * dir_a\n",
    "\n",
    "    # Проверка, что точка находится на обоих лучах\n",
    "    if t >= 0 and s >= 0:\n",
    "        return point_a\n",
    "    else:\n",
    "        return None\n",
    "\n",
    "\n",
    "start_a = np.array([19, 13, 0])\n",
    "dir_a = np.array([-2, 1, 0]) / np.linalg.norm(np.array([-2, 1, 0]))\n",
    "\n",
    "start_b = np.array([18, 19, 0])\n",
    "dir_b = np.array([-1, -1, 0]) / np.linalg.norm(np.array([-1, -1, 0]))\n",
    "\n",
    "intersection = find_intersection(start_a, dir_a, start_b, dir_b)\n",
    "\n",
    "if intersection is not None:\n",
    "    print(f\"Точка пересечения: {intersection}\")\n",
    "else:\n",
    "    print(\"Лучи не пересекаются\")\n"
   ]
  },
  {
   "cell_type": "code",
   "outputs": [],
   "source": [],
   "metadata": {
    "collapsed": false
   },
   "id": "4f568bf04641d5a7"
  }
 ],
 "metadata": {
  "kernelspec": {
   "display_name": "Python 3",
   "language": "python",
   "name": "python3"
  },
  "language_info": {
   "codemirror_mode": {
    "name": "ipython",
    "version": 2
   },
   "file_extension": ".py",
   "mimetype": "text/x-python",
   "name": "python",
   "nbconvert_exporter": "python",
   "pygments_lexer": "ipython2",
   "version": "2.7.6"
  }
 },
 "nbformat": 4,
 "nbformat_minor": 5
}
